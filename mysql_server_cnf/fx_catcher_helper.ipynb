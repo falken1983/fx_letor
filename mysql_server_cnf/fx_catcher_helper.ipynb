{
 "cells": [
  {
   "cell_type": "code",
   "execution_count": 1,
   "id": "09f2f996-a551-4f08-8c36-65e43a3ecd1f",
   "metadata": {},
   "outputs": [
    {
     "name": "stdout",
     "output_type": "stream",
     "text": [
      "config.yaml\t\tfx_catcher_helper.ipynb  requirements.txt\n",
      "Decision_trees_and_svm\tfx_catcher.py\t\t Untitled.ipynb\n",
      "deep_learning_bench\trequirements_base.txt\t untitled.txt\n"
     ]
    }
   ],
   "source": [
    "!ls"
   ]
  },
  {
   "cell_type": "code",
   "execution_count": 17,
   "id": "8ddb8080-fc43-4c64-b714-53a032ee2533",
   "metadata": {},
   "outputs": [],
   "source": [
    "import yaml\n",
    "\n",
    "CONFIG_FILE = \"./config.yaml\"\n",
    "\n",
    "with open(CONFIG_FILE,\"r\") as configfile:\n",
    "    cfg=yaml.safe_load(configfile)"
   ]
  },
  {
   "cell_type": "code",
   "execution_count": 18,
   "id": "442aa81b-6e92-4e4c-9c9c-bbd215ce42b3",
   "metadata": {},
   "outputs": [
    {
     "data": {
      "text/plain": [
       "dict_keys(['fx', 'eq'])"
      ]
     },
     "execution_count": 18,
     "metadata": {},
     "output_type": "execute_result"
    }
   ],
   "source": [
    "cfg.keys()"
   ]
  },
  {
   "cell_type": "code",
   "execution_count": 19,
   "id": "79df8b66-e795-47df-a4c9-f7c9dbdfd9b6",
   "metadata": {},
   "outputs": [],
   "source": [
    "country_codes = [codes for codes in cfg[\"fx\"]]"
   ]
  },
  {
   "cell_type": "code",
   "execution_count": 20,
   "id": "9de0027f-87e8-47f1-a8c7-26b699dcf268",
   "metadata": {},
   "outputs": [
    {
     "data": {
      "text/plain": [
       "['AUD',\n",
       " 'CAD',\n",
       " 'CHF',\n",
       " 'GBP',\n",
       " 'JPY',\n",
       " 'NOK',\n",
       " 'NZD',\n",
       " 'SEK',\n",
       " 'USD',\n",
       " 'CNY',\n",
       " 'KRW',\n",
       " 'SGD',\n",
       " 'TWD']"
      ]
     },
     "execution_count": 20,
     "metadata": {},
     "output_type": "execute_result"
    }
   ],
   "source": [
    "country_codes"
   ]
  },
  {
   "cell_type": "code",
   "execution_count": null,
   "id": "e732d6aa-2fc5-49b9-bde9-beda192308c2",
   "metadata": {},
   "outputs": [],
   "source": [
    "CONFIG_FILE = \"./config.yaml\"\n",
    "\n",
    "def config():\n",
    "        with open(CONFIG_FILE,\"r\") as configfile:\n",
    "            cfg=yaml.safe_load(configfile) \n",
    "                \n",
    "        # parsing of yaml configuration file\n",
    "        country_list = [cfg[\"currencies\"][block] for block in cfg[\"currencies\"]]\n",
    "        # flattening list of lists\n",
    "        country_list = [land for blocklist in country_list for land in blocklist]\n",
    "        \n",
    "        return {\n",
    "            \"codes\": country_list,                                  # country code ISO4217\n",
    "            \"ticker\": [\"EUR\"+code+\"=X\" for code in country_list]    # Y! Finance API ticker\n",
    "        }"
   ]
  },
  {
   "cell_type": "code",
   "execution_count": 4,
   "id": "ffa27d4e-fa47-4bf2-8e58-a2aac503f53b",
   "metadata": {},
   "outputs": [],
   "source": [
    "from datetime import date"
   ]
  },
  {
   "cell_type": "code",
   "execution_count": 5,
   "id": "4e166bfd-94b9-43cb-a615-e58f743a94a7",
   "metadata": {},
   "outputs": [
    {
     "data": {
      "text/plain": [
       "datetime.date"
      ]
     },
     "execution_count": 5,
     "metadata": {},
     "output_type": "execute_result"
    }
   ],
   "source": [
    "type(date.today())"
   ]
  },
  {
   "cell_type": "code",
   "execution_count": null,
   "id": "b8983428-9602-4a6b-97c7-1a6cb873bbaf",
   "metadata": {},
   "outputs": [],
   "source": [
    "import yfinance as yf\n",
    "quote = yf.download(\"EURUSD=X\", period=\"1d\")"
   ]
  },
  {
   "cell_type": "code",
   "execution_count": 8,
   "id": "b2d9a650-6c71-4036-b47b-2ac948adc0df",
   "metadata": {},
   "outputs": [
    {
     "data": {
      "text/html": [
       "<div>\n",
       "<style scoped>\n",
       "    .dataframe tbody tr th:only-of-type {\n",
       "        vertical-align: middle;\n",
       "    }\n",
       "\n",
       "    .dataframe tbody tr th {\n",
       "        vertical-align: top;\n",
       "    }\n",
       "\n",
       "    .dataframe thead th {\n",
       "        text-align: right;\n",
       "    }\n",
       "</style>\n",
       "<table border=\"1\" class=\"dataframe\">\n",
       "  <thead>\n",
       "    <tr style=\"text-align: right;\">\n",
       "      <th></th>\n",
       "      <th>Open</th>\n",
       "      <th>High</th>\n",
       "      <th>Low</th>\n",
       "      <th>Close</th>\n",
       "      <th>Adj Close</th>\n",
       "      <th>Volume</th>\n",
       "    </tr>\n",
       "    <tr>\n",
       "      <th>Date</th>\n",
       "      <th></th>\n",
       "      <th></th>\n",
       "      <th></th>\n",
       "      <th></th>\n",
       "      <th></th>\n",
       "      <th></th>\n",
       "    </tr>\n",
       "  </thead>\n",
       "  <tbody>\n",
       "    <tr>\n",
       "      <th>2023-02-06 00:00:00+00:00</th>\n",
       "      <td>1.079797</td>\n",
       "      <td>1.08038</td>\n",
       "      <td>1.076079</td>\n",
       "      <td>1.0784</td>\n",
       "      <td>1.0784</td>\n",
       "      <td>0</td>\n",
       "    </tr>\n",
       "  </tbody>\n",
       "</table>\n",
       "</div>"
      ],
      "text/plain": [
       "                               Open     High       Low   Close  Adj Close  \\\n",
       "Date                                                                        \n",
       "2023-02-06 00:00:00+00:00  1.079797  1.08038  1.076079  1.0784     1.0784   \n",
       "\n",
       "                           Volume  \n",
       "Date                               \n",
       "2023-02-06 00:00:00+00:00       0  "
      ]
     },
     "execution_count": 8,
     "metadata": {},
     "output_type": "execute_result"
    }
   ],
   "source": [
    "quote"
   ]
  },
  {
   "cell_type": "code",
   "execution_count": 9,
   "id": "efa2404d-0fa0-4fd5-b4a4-adbc36ba173f",
   "metadata": {},
   "outputs": [
    {
     "name": "stdout",
     "output_type": "stream",
     "text": [
      "<class 'pandas.core.frame.DataFrame'>\n",
      "DatetimeIndex: 1 entries, 2023-02-06 00:00:00+00:00 to 2023-02-06 00:00:00+00:00\n",
      "Data columns (total 6 columns):\n",
      " #   Column     Non-Null Count  Dtype  \n",
      "---  ------     --------------  -----  \n",
      " 0   Open       1 non-null      float64\n",
      " 1   High       1 non-null      float64\n",
      " 2   Low        1 non-null      float64\n",
      " 3   Close      1 non-null      float64\n",
      " 4   Adj Close  1 non-null      float64\n",
      " 5   Volume     1 non-null      int64  \n",
      "dtypes: float64(5), int64(1)\n",
      "memory usage: 56.0 bytes\n"
     ]
    }
   ],
   "source": [
    "quote.info()"
   ]
  },
  {
   "cell_type": "code",
   "execution_count": 10,
   "id": "f33b6249-9832-4886-8f8d-e4899ee47ba7",
   "metadata": {},
   "outputs": [
    {
     "name": "stdout",
     "output_type": "stream",
     "text": [
      "MariaDB is successful connected\n"
     ]
    }
   ],
   "source": [
    "import mysql.connector as msql\n",
    "from mysql.connector import Error\n",
    "try:\n",
    "    conn = msql.connect(host='localhost', user='hcf',  \n",
    "                        password='Whtr23F')\n",
    "    if conn.is_connected():\n",
    "        print(\"MariaDB is successful connected\")\n",
    "except Error as e:\n",
    "    print(\"Error while connecting to MySQL\", e)"
   ]
  },
  {
   "cell_type": "code",
   "execution_count": 11,
   "id": "e2c97d0e-607e-4165-a973-beb3e2056206",
   "metadata": {},
   "outputs": [
    {
     "data": {
      "text/html": [
       "<div>\n",
       "<style scoped>\n",
       "    .dataframe tbody tr th:only-of-type {\n",
       "        vertical-align: middle;\n",
       "    }\n",
       "\n",
       "    .dataframe tbody tr th {\n",
       "        vertical-align: top;\n",
       "    }\n",
       "\n",
       "    .dataframe thead th {\n",
       "        text-align: right;\n",
       "    }\n",
       "</style>\n",
       "<table border=\"1\" class=\"dataframe\">\n",
       "  <thead>\n",
       "    <tr style=\"text-align: right;\">\n",
       "      <th></th>\n",
       "      <th>Open</th>\n",
       "      <th>High</th>\n",
       "      <th>Low</th>\n",
       "      <th>Close</th>\n",
       "      <th>Adj Close</th>\n",
       "      <th>Volume</th>\n",
       "    </tr>\n",
       "    <tr>\n",
       "      <th>Date</th>\n",
       "      <th></th>\n",
       "      <th></th>\n",
       "      <th></th>\n",
       "      <th></th>\n",
       "      <th></th>\n",
       "      <th></th>\n",
       "    </tr>\n",
       "  </thead>\n",
       "  <tbody>\n",
       "    <tr>\n",
       "      <th>2023-02-06 00:00:00+00:00</th>\n",
       "      <td>1.079797</td>\n",
       "      <td>1.08038</td>\n",
       "      <td>1.076079</td>\n",
       "      <td>1.0784</td>\n",
       "      <td>1.0784</td>\n",
       "      <td>0</td>\n",
       "    </tr>\n",
       "  </tbody>\n",
       "</table>\n",
       "</div>"
      ],
      "text/plain": [
       "                               Open     High       Low   Close  Adj Close  \\\n",
       "Date                                                                        \n",
       "2023-02-06 00:00:00+00:00  1.079797  1.08038  1.076079  1.0784     1.0784   \n",
       "\n",
       "                           Volume  \n",
       "Date                               \n",
       "2023-02-06 00:00:00+00:00       0  "
      ]
     },
     "execution_count": 11,
     "metadata": {},
     "output_type": "execute_result"
    }
   ],
   "source": [
    "quote.head()"
   ]
  },
  {
   "cell_type": "code",
   "execution_count": 12,
   "id": "0f3566d5-0836-45df-9dc8-427e59741f66",
   "metadata": {},
   "outputs": [],
   "source": [
    "quote.index = quote.index.strftime(\"%Y-%m-%d\")"
   ]
  },
  {
   "cell_type": "code",
   "execution_count": 16,
   "id": "6098adb4-fab5-4eda-a619-d2518e56823b",
   "metadata": {},
   "outputs": [],
   "source": [
    "quote = quote[[\"Adj Close\"]]"
   ]
  },
  {
   "cell_type": "code",
   "execution_count": 19,
   "id": "9e44f027-7e4b-4342-9dcb-afcd097c0fa1",
   "metadata": {},
   "outputs": [
    {
     "name": "stderr",
     "output_type": "stream",
     "text": [
      "/tmp/ipykernel_7673/4269832862.py:1: SettingWithCopyWarning: \n",
      "A value is trying to be set on a copy of a slice from a DataFrame.\n",
      "Try using .loc[row_indexer,col_indexer] = value instead\n",
      "\n",
      "See the caveats in the documentation: https://pandas.pydata.org/pandas-docs/stable/user_guide/indexing.html#returning-a-view-versus-a-copy\n",
      "  quote[\"code\"] = \"USD\"\n"
     ]
    },
    {
     "data": {
      "text/html": [
       "<div>\n",
       "<style scoped>\n",
       "    .dataframe tbody tr th:only-of-type {\n",
       "        vertical-align: middle;\n",
       "    }\n",
       "\n",
       "    .dataframe tbody tr th {\n",
       "        vertical-align: top;\n",
       "    }\n",
       "\n",
       "    .dataframe thead th {\n",
       "        text-align: right;\n",
       "    }\n",
       "</style>\n",
       "<table border=\"1\" class=\"dataframe\">\n",
       "  <thead>\n",
       "    <tr style=\"text-align: right;\">\n",
       "      <th></th>\n",
       "      <th>Adj Close</th>\n",
       "      <th>code</th>\n",
       "    </tr>\n",
       "    <tr>\n",
       "      <th>Date</th>\n",
       "      <th></th>\n",
       "      <th></th>\n",
       "    </tr>\n",
       "  </thead>\n",
       "  <tbody>\n",
       "    <tr>\n",
       "      <th>2023-02-06</th>\n",
       "      <td>1.0784</td>\n",
       "      <td>USD</td>\n",
       "    </tr>\n",
       "  </tbody>\n",
       "</table>\n",
       "</div>"
      ],
      "text/plain": [
       "            Adj Close code\n",
       "Date                      \n",
       "2023-02-06     1.0784  USD"
      ]
     },
     "execution_count": 19,
     "metadata": {},
     "output_type": "execute_result"
    }
   ],
   "source": [
    "quoteloc[\"code\"] = \"USD\"\n",
    "quote.reset_index()\n"
   ]
  },
  {
   "cell_type": "code",
   "execution_count": 21,
   "id": "3fcc3254-bae8-4399-9773-456948596ee2",
   "metadata": {},
   "outputs": [],
   "source": [
    "quote.reset_index(inplace=True)"
   ]
  },
  {
   "cell_type": "code",
   "execution_count": 22,
   "id": "ecc6dff5-b864-4707-b624-3cadc152e8c7",
   "metadata": {},
   "outputs": [
    {
     "data": {
      "text/html": [
       "<div>\n",
       "<style scoped>\n",
       "    .dataframe tbody tr th:only-of-type {\n",
       "        vertical-align: middle;\n",
       "    }\n",
       "\n",
       "    .dataframe tbody tr th {\n",
       "        vertical-align: top;\n",
       "    }\n",
       "\n",
       "    .dataframe thead th {\n",
       "        text-align: right;\n",
       "    }\n",
       "</style>\n",
       "<table border=\"1\" class=\"dataframe\">\n",
       "  <thead>\n",
       "    <tr style=\"text-align: right;\">\n",
       "      <th></th>\n",
       "      <th>Date</th>\n",
       "      <th>Adj Close</th>\n",
       "      <th>code</th>\n",
       "    </tr>\n",
       "  </thead>\n",
       "  <tbody>\n",
       "    <tr>\n",
       "      <th>0</th>\n",
       "      <td>2023-02-06</td>\n",
       "      <td>1.0784</td>\n",
       "      <td>USD</td>\n",
       "    </tr>\n",
       "  </tbody>\n",
       "</table>\n",
       "</div>"
      ],
      "text/plain": [
       "         Date  Adj Close code\n",
       "0  2023-02-06     1.0784  USD"
      ]
     },
     "execution_count": 22,
     "metadata": {},
     "output_type": "execute_result"
    }
   ],
   "source": [
    "quote"
   ]
  },
  {
   "cell_type": "code",
   "execution_count": 25,
   "id": "0a8dc2c2-b7ab-4630-b564-f6d0eaefe729",
   "metadata": {},
   "outputs": [
    {
     "name": "stderr",
     "output_type": "stream",
     "text": [
      "/tmp/ipykernel_7673/927912386.py:1: SettingWithCopyWarning: \n",
      "A value is trying to be set on a copy of a slice from a DataFrame\n",
      "\n",
      "See the caveats in the documentation: https://pandas.pydata.org/pandas-docs/stable/user_guide/indexing.html#returning-a-view-versus-a-copy\n",
      "  quote.rename(\n"
     ]
    }
   ],
   "source": [
    "quote.rename(\n",
    "    columns={\n",
    "        \"Adj Close\": \"price\",\n",
    "        \"Date\": \"date\"\n",
    "    },\n",
    "    inplace=True\n",
    ")"
   ]
  },
  {
   "cell_type": "code",
   "execution_count": 27,
   "id": "4521eeaf-46d2-4252-a711-c7348e4e0384",
   "metadata": {},
   "outputs": [],
   "source": [
    "quote = quote[[\"date\",\"code\",\"price\"]]"
   ]
  },
  {
   "cell_type": "code",
   "execution_count": 29,
   "id": "dec8fc30-5359-477f-ad18-204901473ca1",
   "metadata": {},
   "outputs": [
    {
     "name": "stdout",
     "output_type": "stream",
     "text": [
      "You're connected to database:  ('finance_market_data_db',)\n",
      "Record inserted\n"
     ]
    }
   ],
   "source": [
    "try:\n",
    "    conn = msql.connect(host='localhost', database='finance_market_data_db', user='hcf', password='Whtr23F')\n",
    "    if conn.is_connected():\n",
    "        cursor = conn.cursor()\n",
    "        cursor.execute(\"select database();\")\n",
    "        record = cursor.fetchone()\n",
    "        print(\"You're connected to database: \", record)        \n",
    "        #loop through the data frame\n",
    "        for i,row in quote.iterrows():\n",
    "            #here %S means string values \n",
    "            sql = \"INSERT INTO fx_prices(date, code, price) VALUES (%s,%s,%s);\"\n",
    "            cursor.execute(sql, tuple(row))\n",
    "            print(\"Record inserted\")\n",
    "            # the connection is not auto committed by default, so we must commit to save our changes\n",
    "            conn.commit()\n",
    "except Error as e:\n",
    "            print(\"Error while connecting to MySQL\", e)"
   ]
  },
  {
   "cell_type": "code",
   "execution_count": 30,
   "id": "228dd848-c1fd-47fb-bac1-75cc9fe0b3eb",
   "metadata": {},
   "outputs": [],
   "source": [
    "import yaml"
   ]
  },
  {
   "cell_type": "code",
   "execution_count": 36,
   "id": "ca83ad19-df46-4ba4-a13b-2e53f72f7afe",
   "metadata": {},
   "outputs": [
    {
     "name": "stdout",
     "output_type": "stream",
     "text": [
      "/home/hcf/notebooks/Decision_trees_and_svm/notebooks\n"
     ]
    }
   ],
   "source": [
    "!pwd"
   ]
  },
  {
   "cell_type": "code",
   "execution_count": 32,
   "id": "9bbe33a5-b6f9-4a77-9e81-dd80c8dfdad2",
   "metadata": {},
   "outputs": [],
   "source": [
    "CONFIG_FILE = \"./config.yaml\""
   ]
  },
  {
   "cell_type": "code",
   "execution_count": 33,
   "id": "d40e3244-48b1-46cb-80ed-4a4e800db7c5",
   "metadata": {},
   "outputs": [],
   "source": [
    "def config():\n",
    "        with open(CONFIG_FILE,\"r\") as configfile:\n",
    "            cfg=yaml.safe_load(configfile) \n",
    "                \n",
    "        # parsing of yaml configuration file\n",
    "        country_list = [cfg[\"currencies\"][block] for block in cfg[\"currencies\"]]\n",
    "        # flattening list of lists\n",
    "        country_list = [land for blocklist in country_list for land in blocklist]\n",
    "        \n",
    "        return {\n",
    "            \"codes\": country_list,                                  # country code ISO4217\n",
    "            \"ticker\": [\"EUR\"+code+\"=X\" for code in country_list]    # Y! Finance API ticker\n",
    "        }"
   ]
  },
  {
   "cell_type": "code",
   "execution_count": null,
   "id": "8b363047-4a6e-49b7-bd16-ca5100fa0084",
   "metadata": {},
   "outputs": [],
   "source": [
    "config()[\"codes\"]"
   ]
  }
 ],
 "metadata": {
  "kernelspec": {
   "display_name": "Python 3 (ipykernel)",
   "language": "python",
   "name": "python3"
  },
  "language_info": {
   "codemirror_mode": {
    "name": "ipython",
    "version": 3
   },
   "file_extension": ".py",
   "mimetype": "text/x-python",
   "name": "python",
   "nbconvert_exporter": "python",
   "pygments_lexer": "ipython3",
   "version": "3.9.2"
  }
 },
 "nbformat": 4,
 "nbformat_minor": 5
}
